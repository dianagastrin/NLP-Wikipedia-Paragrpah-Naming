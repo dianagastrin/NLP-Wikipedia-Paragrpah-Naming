{
 "cells": [
  {
   "cell_type": "markdown",
   "metadata": {},
   "source": [
    "## Evaulating Segmentation and Title Assignment ##\n"
   ]
  },
  {
   "cell_type": "code",
   "execution_count": 24,
   "metadata": {},
   "outputs": [],
   "source": [
    "from nltk.metrics.segmentation import *"
   ]
  },
  {
   "cell_type": "markdown",
   "metadata": {},
   "source": [
    "The nltk metrics module includes three measures for text segmentation. They are all based on binary alphabeth strings. So, if the tiling output cannot provide it such straight away, we have to convert, say, a list of inidces to a binary string 1000...10001... where the 1's match the segment boundaries."
   ]
  },
  {
   "cell_type": "code",
   "execution_count": 18,
   "metadata": {},
   "outputs": [
    {
     "data": {
      "text/plain": [
       "'00000000000000010000000000000100100000'"
      ]
     },
     "execution_count": 18,
     "output_type": "execute_result",
     "metadata": {}
    }
   ],
   "source": [
    "def indexlist2binary(index_list,text_length):\n",
    "    ret = \"\"\n",
    "    for ordinal,split_location in enumerate(index_list):\n",
    "        ret += \"0\"*(split_location - (index_list[ordinal - 1] if ordinal > 0 else 0))\n",
    "        ret += \"1\"\n",
    "    ret += \"0\"*(text_length - index_list[-1])\n",
    "    return ret\n",
    "\n",
    "indexlist2binary([15,28,30],35)"
   ]
  },
  {
   "cell_type": "code",
   "execution_count": 26,
   "metadata": {},
   "outputs": [
    {
     "name": "stdout",
     "output_type": "stream",
     "text": [
      "6.0\n",
      "0.34285714285714286\n",
      "0.2727272727272727\n"
     ]
    }
   ],
   "source": [
    "print(ghd(indexlist2binary([15,28,30],35),indexlist2binary([11,29,31],35)))\n",
    "print(windowdiff(indexlist2binary([15,28,30],35),indexlist2binary([11,29,31],35),4))\n",
    "print(pk(indexlist2binary([15,28,30],35),indexlist2binary([11,29,31],35)))"
   ]
  },
  {
   "cell_type": "markdown",
   "metadata": {},
   "source": [
    "So we can take as eval(our output) the average f measure for title and multiply by one of "
   ]
  }
 ],
 "metadata": {
  "kernelspec": {
   "display_name": "Python 3",
   "language": "python",
   "name": "python3"
  },
  "language_info": {
   "codemirror_mode": {
    "name": "ipython",
    "version": 3.0
   },
   "file_extension": ".py",
   "mimetype": "text/x-python",
   "name": "python",
   "nbconvert_exporter": "python",
   "pygments_lexer": "ipython3",
   "version": "3.4.3"
  }
 },
 "nbformat": 4,
 "nbformat_minor": 0
}