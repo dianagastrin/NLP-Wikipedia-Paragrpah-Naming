{
 "cells": [
  {
   "cell_type": "code",
   "execution_count": 1,
   "metadata": {
    "collapsed": false
   },
   "outputs": [],
   "source": [
    "import pickle\n",
    "\n",
    "bios = pickle.load(open(\"corpus1000.pickle\", \"rb\"))"
   ]
  },
  {
   "cell_type": "code",
   "execution_count": 82,
   "metadata": {
    "collapsed": false
   },
   "outputs": [
    {
     "data": {
      "text/plain": [
       "[('Summary',\n",
       "  'Henri-Louis Bergson (; 18 October 1859 – 4 January 1941) was a major French philosopher, influential especially in the first half of the 20th century. Bergson convinced many thinkers that the processes of immediate experience and intuition are more significant than abstract rationalism and science for understanding reality.\\n\\nHe was awarded the 1927 Nobel Prize in Literature \"in recognition of his rich and vitalizing ideas and the brilliant skill with which they have been presented\". In 1930 France awarded him its highest honour, the Grand-Croix de la Legion d\\'honneur.\\n\\n'),\n",
       " ('Philosophy',\n",
       "  'Bergson rejected what he saw as the overly mechanistic predominant view of causality (as expressed in, say, finalism). He argued that we must allow space for free will to unfold in an autonomous and unpredictable fashion. While Kant saw free will as something beyond time and space and therefore ultimately a matter of faith, Bergson attempted to redefine the modern conceptions of time, space, and causality in his concept of Duration, making room for a tangible marriage of free will with causality. Seeing Duration as a mobile and fluid concept, Bergson argued that one cannot understand Duration through \"immobile\" analysis, but only through experiential, first-person intuition.\\n\\n'),\n",
       " ('Creativity',\n",
       "  '\\nBergson considers the appearance of novelty as a result of pure undetermined creation, instead of as the predetermined result of mechanistic forces. His philosophy emphasises pure mobility, unforeseeable novelty, creativity and freedom; thus one can characterize his system as a process philosophy. It touches upon such topics as time and identity, free will, perception, change, memory, consciousness, language, the foundation of mathematics and the limits of reason.\\n\\nCriticizing Kant\\'s theory of knowledge exposed in the \\'\\'Critique of Pure Reason\\'\\' and his conception of truth  which he compares to Plato\\'s conception of truth as its symmetrical inversion (order of nature/order of thought)  Bergson attempted to redefine the relations between science and metaphysics, intelligence and intuition, and insisted on the necessity of increasing thought\\'s possibility through the use of intuition, which, according to him, alone approached a knowledge of the absolute and of real life, understood as pure duration. Because of his (relative) criticism of intelligence, he makes a frequent use of images and metaphors in his writings in order to avoid the use of concepts, which (he considers) fail to touch the whole of reality, being only a sort of abstract net thrown on things. For instance, he says in \\'\\'The Creative Evolution\\'\\' (chap.III) that thought in itself would never have thought it possible for the human being to swim, as it cannot deduce swimming from walking. For swimming to be possible, man must throw itself in water, and only then can thought consider swimming as possible. Intelligence, for Bergson, is a practical faculty rather than a pure speculative faculty, a product of evolution used by man to survive. If metaphysics is to avoid \"false problems\", it should not extend to pure speculation the abstract concepts of intelligence, but rather use intuition.\\n\\n\\'\\'The Creative Evolution\\'\\' in particular attempted to think through the continuous creation of life, and explicitly pitted itself against Herbert Spencer\\'s evolutionary philosophy. Spencer had attempted to transpose Charles Darwin\\'s theory of evolution in philosophy and to construct a cosmology based on this theory (Spencer also coined the expression \"survival of the fittest\"). Bergson disputed what he saw as Spencer\\'s mechanistic philosophy.\\n\\nHenri Bergsons \\'\\'Lebensphilosophie\\'\\' (Philosophy of Life) can be seen as a response to the mechanistic philosophies of his time,  but also to the failure of finalism.  Indeed, he considers that finalism is unable to explain \"duration\" and the \"continuous creation of life\", as it only explains life as the progressive development of an initially determined program  a notion which remains, for example, in the expression of a \"genetic program\";  such a description of finalism was adopted, for instance, by Leibniz. It clearly announces Alfred North Whitehead\\'s.\\n\\nBergson regarded planning beforehand for the future as impossible, since time itself unravels unforeseen possibilities. Indeed, one could always explain a historical event retrospectively by its conditions of possibility. But, in the introduction to the \\'\\'Pensee et le mouvant\\'\\', he explains that such an event created retrospectively its causes, taking the example of the creation of a work of art, for example a symphony: it was impossible to predict what would be the symphony of the future, as if the musician knew what symphony would be the best for his time, he would realize it. In his words, the effect created its cause. Henceforth, he attempted to find a third way between mechanism and finalism, through the notion of an original impulse, the \\'\\'elan vital\\'\\', in life, which dispersed itself through evolution into contradictory tendencies (he substituted to the finalist notion of a teleological aim a notion of an original impulse).\\n\\n'),\n",
       " ('Duration',\n",
       "  \"\\nDuration (philosophy)\\nThe foundation of Henri Bergsons philosophy, his theory of Duration, he discovered when trying to improve the inadequacies of Herbert Spencers philosophy. Bergson introduced Duration as a theory of time and consciousness in his doctoral thesis ''Time and Free Will: An Essay on the Immediate Data of Consciousness'' as a response to another of his influences: Immanuel Kant.\\n\\nKant believed that free will could only exist outside of time and space, that we could therefore not know whether or not it exists, and that it is nothing but a pragmatic faith. Bergson responded that Kant, along with many other philosophers, had confused time with its spatial representation. In reality, Bergson argued, Duration is unextended yet heterogeneous, and so its parts cannot be juxtaposed as a succession of distinct parts, with one causing the other. Based on this he concluded that determinism is an impossibility and free will pure mobility, which is what Bergson identified as being the Duration.\\n\\n\"),\n",
       " ('Intuition',\n",
       "  \"\\nIntuition (Bergson)\\nDuration, as defined by Bergson, then is a unity and a multiplicity, but, being mobile, it cannot be grasped through immobile concepts. Bergson hence argues that one can grasp it only through his method of intuition. Two images from Henri Bergsons ''An Introduction to Metaphysics'' may help one to grasp Bergson's term intuition, the limits of concepts, and the ability of intuition to grasp the absolute. The first image is that of a city. Analysis, or the creation of concepts through the divisions of points of view, can only ever give us a model of the city through a construction of photographs taken from every possible point of view, yet it can never give us the dimensional value of walking in the city itself. One can only grasp this through intuition; likewise the experience of reading a line of Homer. One may translate the line and pile commentary upon commentary, but this commentary too shall never grasp the simple dimensional value of experiencing the poem in its originality itself. The method of intuition, then, is that of getting back to the things themselves.\\n\\n\"),\n",
       " ('Laughter',\n",
       "  \"\\nIn ''Laughter: An Essay on the Meaning of the Comic'', Bergson develops a theory not of laughter itself but of how laughter can be provoked (see his objection to Delage, published in the 23rd edition of the essay). He describes the process of laughter (refusing to give a conceptual definition which would not approach its reality), used in particular by comics and clowns, as the caricature of the mechanism nature of humans (habits, automatic acts, etc.), one of the two tendencies of life (degradation towards inert matter and mechanism, and continual creation of new forms). However, Bergson warns us that laughters criterion of what should be laughed at is not a moral criterion and that it can in fact cause serious damage to a persons self-esteem. This essay made his opposition to the Cartesian theory of the animal-machine obvious.\\n\\n\"),\n",
       " ('Reception',\n",
       "  'From his first publications, Bergson\\'s philosophy attracted strong criticism from different quarters, although he also became very popular and durably influenced French philosophy.  The mathematician Edouard Le Roy became Bergson\\'s main disciple. Nonetheless, Suzanne Guerlac has argued that his institutional position at the College de France, delivering lectures to a general audience, may have retarded the systematic reception of his thought: \"Bergson achieved enormous popular success in this context, often due to the emotional appeal of his ideas.  But he did not have the equivalent of graduate students who might have become rigorous interpreters of his thought.  Thus Bergson\\'s philosophy--in principle open and nonsystematic--was easily borrowed piecemeal and altered by enthusiastic admirers\".\\n\\nAlfred North Whitehead acknowledged Bergson\\'s influence on his process philosophy in his 1929 \\'\\'Process and Reality.\\'\\'  However, Bertrand Russell, Whitehead\\'s collaborator on \\'\\'Principia Mathematica\\'\\', was not so entranced by Bergson\\'s philosophy. Although acknowledging Bergson\\'s literary skills, Russell saw Bergson\\'s arguments at best as persuasive or emotive speculation but not at all as any worthwhile example of  sound reasoning or philosophical insight. The epistemologist Gaston Bachelard explicitly alluded to him in the last pages of his 1938 book \\'\\'The Formation of the Scientific Mind\\'\\'. Others influenced by Bergson include Vladimir Jankelevitch, who wrote a book on him in 1931, Pierre Teilhard de Chardin, and Gilles Deleuze who wrote \\'\\'Le bergsonisme\\'\\' in 1966. Bergson also influenced the phenomenology of Maurice Merleau-Ponty and Emmanuel Levinas, although Merleau-Ponty had reservations about Bergson\\'s philosophy. The Greek author Nikos Kazantzakis studied under Bergson in Paris and his writing and philosophy were profoundly influenced as a result.\\n\\nMany writers of the early 20th century criticized Bergson\\'s intuitionism, indeterminism, psychologism and interpretation of the scientific impulse. Those who explicitly criticized Bergson, either in published articles or in letters, included Bertrand Russell George Santayana, G. E. Moore, Ludwig Wittgenstein, Martin Heidegger, Julien Benda, T. S. Eliot, Wyndham Lewis, Paul Valery, Andre Gide, Jean Piaget, Marxist philosophers Theodor W. Adorno, Lucio Colletti, Jean-Paul Sartre, and Georges Politzer, as well as Maurice Blanchot, American philosophers such as Irving Babbitt, Arthur Lovejoy, Josiah Royce, The New Realists (Ralph B. Perry, E. B. Holt, and William Pepperell Montague), The Critical Realists (Durant Drake, Roy W. Sellars, C. A. Strong, and A. K. Rogers), Daniel-Henry Kahnweiler, Roger Fry (see his letters), Julian Huxley (in \\'\\'Evolution: The Modern Synthesis\\'\\') and Virginia Woolf (for the latter, see Ann Banfield, \\'\\'The Phantom Table\\'\\').date=May 2010\\n\\nThe Vatican accused Bergson of pantheism, while free-thinkersdate=September 2009 (who formed a large part of the teachers and professors of the French Third Republic) accused him of spiritualism. Still others have characterized his philosophy as a materialist emergentism  Samuel Alexander and C. Lloyd Morgan explicitly claimed Bergson as their forebear. According to Henri Hude (1990, II, p.\\xa0142), who supports himself on the whole of Bergson\\'s works as well as his now published courses, accusing him of pantheism is a \"counter-sense\". Hude alleges that a mystical experience, roughly outlined at the end of \\'\\'Les Deux sources de la morale et de la religion\\'\\', is the inner principle of his whole philosophy, although this has been contested by other commentators.\\n\\nCharles Sanders Peirce took strong exception to those who associated him with Bergson. In response to a letter comparing his work with that of Bergson he wrote, a man who seeks to further science can hardly commit a greater sin than to use the terms of his science without anxious care to use them with strict accuracy; it is not very gratifying to my feelings to be classed along with a Bergson who seems to be doing his utmost to muddle all distinctions. William Jamess students resisted the assimilation of his work to that of Bergson. See, for example, Horace Kallens book on the subject \\'\\'James and Bergson\\'\\'. As Jean Wahl described the ultimate disagreement between James and Bergson in his \\'\\'System of Metaphysics\\'\\': for James, the consideration of action is necessary for the definition of truth, according to Bergson, action...must be kept from our mind if we want to see the truthdate=September 2010. Gide even went so far as to say that future historians will overestimate Bergsons influence on art and philosophy just because he was the self-appointed spokesman for the spirit of the age.\\n\\nAs early as the 1890s, Santayana attacked certain key concepts in Bergsons philosophy, above all his view of the New and the indeterminate:\\n\\nthe possibility of a new and unaccountable fact appearing at any time, he writes in his book on Hermann Lotze, does not practically affect the method of investigation;...the only thing given up is the hope that these hypotheses may ever be adequate to the reality and cover the process of nature without leaving a remainder. This is no great renunciation; for that consummation of science...is by no one really expected.\\n\\n\\nAccording to Santayana and Russell, Bergson projected false claims onto the aspirations of scientific method, claims which Bergson needed to make in order to justify his prior moral commitment to freedom. Russell takes particular exception to Bergsons understanding of number in chapter two of \\'\\'Time and Free-will\\'\\'. According to Russell, Bergson uses an outmoded spatial metaphor (extended images) to describe the nature of mathematics as well as logic in general. Bergson only succeeds in making his theory of number possible by confusing a particular collection with the number of its terms, and this again with number in general, writes Russell (see \\'\\'The Philosophy of Bergson\\'\\'date=September 2010 and \\'\\'A History of Western Philosophy\\'\\'date=September 2010).\\n\\nFurthermore, writers such as Russell, Wittgenstein, and James saw \\'\\'elan vital\\'\\' as a projection of subjectivity onto the world. The external world, according to certaindate=November 2009 theories of probability, provides less and less indeterminism with further refinement of scientific method. In brief, one should not confuse the moral, psychological, subjective demand for the new, the underivable and the unexplained with the universe.date=January 2010 One\\'s subjective sense of duration differs the (non-human) world, a difference which, according to the ancient materialist Lucretius should not be characterized as either one of becoming or being, creation or destruction (\\'\\'De Rerum Natura\\'\\').\\n\\nSuzanne Guerlac has argued that the more recent resurgence of scholarly interest in Bergson is related to the growing influence of his follower Deleuze within continental philosophy: \"If there is a return to Bergson today, then, it is largely due to Gilles Deleuze whose own work has etched the contours of the New Bergson.  This is not only because Deleuze wrote about Bergson; it is also because Deleuze\\'s own thought is deeply engaged with that of his predecessor, even when Bergson is not explicitly mentioned.\" Leonard Lawlor and Valentine Moulard agree with Guerlac that \"the recent revitalization of Bergsonism [...] is almost entirely due to Deleuze.\"  They explain that Bergson\\'s concept of multiplicity \"is at the very heart of Deleuze\\'s thought, and duration is the model for all of Deleuze\\'s \\'becomings.\\'  The other aspect that attracted Deleuze, which is indeed connected to the first, is Bergson\\'s criticism of the concept of negation in Creative Evolution. [...] Thus Bergson became a resource in the criticism of the Hegelian Dialectic#dialectic, the negative.\"\\n\\n'),\n",
       " ('Bibliography',\n",
       "  '* Bergson, H.; \\'\\'Time and Free Will: An Essay on the Immediate Data of Consciousness\\'\\' (\\'\\'Essai sur les donnees immediates de la conscience\\'\\', 1889). Allen & Unwin 1910, Dover Publications 2001: ISBN 0-486-41767-0  Bergson\\'s doctoral dissertation.\\n* Bergson, H.; \\'\\'Matter and Memory\\'\\' (\\'\\'Matiere et memoire\\'\\', 1896). Swan Sonnenschein 1911, Zone Books 1990: ISBN 0-942299-05-1, Dover Publications 2004: ISBN 0-486-43415-X.\\n* Bergson, H.; \\'\\'Laughter: An Essay on the Meaning of the Comic\\'\\' (\\'\\'Le rire\\'\\', 1900). Green Integer 1998: ISBN 1-892295-02-4, Dover Publications 2005: ISBN 0-486-44380-9.\\n* Bergson, H.; \\'\\'Creative Evolution\\'\\' (\\'\\'L\\'Evolution creatrice\\'\\', 1907). Henry Holt and Company 1911, University Press of America 1983: ISBN 0-8191-3553-4, Dover Publications 1998: ISBN 0-486-40036-0, Kessinger Publishing 2003: ISBN 0-7661-4732-0, Cosimo 2005: ISBN 1-59605-309-7.\\n* Bergson, H.; \\'\\'Mind-energy\\'\\' (\\'\\'L\\'Energie spirituelle, 1919\\'\\'). McMillan 1920.  a collection of essays and lectures. On [ Archive.org].\\n* Bergson, H.; \\'\\'Duration and Simultaneity: Bergson and the Einsteinian Universe\\'\\' (\\'\\'Duree et simultaneite\\'\\', 1922). Clinamen Press Ltd 1999. ISBN 1-903083-01-X.\\n* Bergson, H.; \\'\\'The Two Sources of Morality and Religion\\'\\' (\\'\\'Les Deux Sources de la Morale et de la Religion\\'\\', 1932). University of Notre Dame Press 1977. ISBN 0-268-01835-9. On [ Archive.org].\\n* Bergson, H.; \\'\\'The Creative Mind: An Introduction to Metaphysics\\'\\' (\\'\\'La Pensee et le mouvant\\'\\', 1934). Citadel Press 1946: ISBN 0-8065-2326-3  essay collection, sequel to \\'\\'Mind-Energy\\'\\', including 1903\\'s \"An Introduction to Metaphysics.\"\\n\\n')]"
      ]
     },
     "execution_count": 82,
     "metadata": {},
     "output_type": "execute_result"
    }
   ],
   "source": [
    "bios[47][0][1]"
   ]
  },
  {
   "cell_type": "code",
   "execution_count": 3,
   "metadata": {
    "collapsed": true
   },
   "outputs": [],
   "source": [
    "import sys\n",
    "\n",
    "def progress(i, end_val, bar_length=50):\n",
    "    percent = float(i) / end_val\n",
    "    hashes = '#' * int(round(percent * bar_length))\n",
    "    spaces = ' ' * (bar_length - len(hashes))\n",
    "    sys.stdout.write(\"\\r{0} / {1} Percent: [{2}] {3}%\".format(i, end_val, hashes + spaces, int(round(percent * 100))))\n",
    "    sys.stdout.flush()"
   ]
  },
  {
   "cell_type": "code",
   "execution_count": 4,
   "metadata": {
    "collapsed": false
   },
   "outputs": [
    {
     "name": "stdout",
     "output_type": "stream",
     "text": [
      "1000 / 1000 Percent: [##################################################] 100%"
     ]
    },
    {
     "name": "stderr",
     "output_type": "stream",
     "text": [
      "//anaconda/lib/python3.5/site-packages/sklearn/utils/fixes.py:64: DeprecationWarning: inspect.getargspec() is deprecated, use inspect.signature() instead\n",
      "  if 'order' in inspect.getargspec(np.copy)[0]:\n"
     ]
    }
   ],
   "source": [
    "import os, lda, numpy as np\n",
    "from nltk import word_tokenize, sent_tokenize\n",
    "\n",
    "all_tokens = set()\n",
    "paragraph_tokens = list()\n",
    "biographies_paragraphs = list()\n",
    "biographies_paragraphs_tokens = list()\n",
    "\n",
    "bios_subset = bios[:1000]\n",
    "\n",
    "i = 0\n",
    "for bio in bios_subset:\n",
    "    biography_paragraphs = list()\n",
    "    biography_paragraphs_tokens = list()\n",
    "    for section in bio[0][1]:\n",
    "        raw_section_text = section[1]\n",
    "        raw_section_paragraphs_text = raw_section_text.split('\\n')\n",
    "        for raw_paragraph_text in raw_section_paragraphs_text:\n",
    "            stripped_paragraph_text = raw_paragraph_text.strip('\\n')\n",
    "            if len(stripped_paragraph_text) == 0:\n",
    "                continue\n",
    "\n",
    "            tokens = word_tokenize(stripped_paragraph_text)\n",
    "#             sentences = sent_tokenize(raw_text)\n",
    "            all_tokens |= set(tokens)\n",
    "            paragraph_tokens.append(tokens)\n",
    "        \n",
    "            biography_paragraphs.append(stripped_paragraph_text)\n",
    "            biography_paragraphs_tokens.append(tokens)\n",
    "\n",
    "#             biography_sentences.append(sentences)\n",
    "#             biography_sentences_tokens.append(list(word_tokenize(sentence) for sentence in sentences))\n",
    "    biographies_paragraphs.append(biography_paragraphs)\n",
    "    biographies_paragraphs_tokens.append(biography_paragraphs_tokens)\n",
    "\n",
    "    i += 1\n",
    "    progress(i, len(bios_subset))"
   ]
  },
  {
   "cell_type": "code",
   "execution_count": 70,
   "metadata": {
    "collapsed": false
   },
   "outputs": [
    {
     "name": "stdout",
     "output_type": "stream",
     "text": [
      "47 32\n",
      "59 40\n",
      "70 34\n",
      "72 75\n",
      "76 33\n",
      "81 32\n",
      "93 33\n",
      "94 42\n",
      "97 81\n",
      "98 108\n",
      "104 67\n",
      "115 52\n",
      "119 39\n",
      "122 32\n",
      "125 33\n",
      "133 37\n",
      "139 75\n",
      "145 69\n",
      "165 32\n",
      "173 120\n",
      "176 45\n",
      "181 57\n",
      "187 41\n",
      "204 34\n",
      "209 46\n",
      "214 37\n",
      "217 77\n",
      "225 46\n",
      "233 58\n",
      "245 34\n",
      "252 35\n",
      "255 47\n",
      "259 45\n",
      "265 39\n",
      "266 99\n",
      "269 39\n",
      "276 75\n",
      "288 38\n",
      "299 39\n",
      "311 47\n",
      "316 65\n",
      "326 57\n",
      "328 39\n",
      "330 38\n",
      "333 39\n",
      "338 40\n",
      "342 44\n",
      "359 67\n",
      "384 35\n",
      "386 82\n",
      "406 38\n",
      "414 34\n",
      "416 50\n",
      "430 37\n",
      "478 42\n",
      "479 168\n",
      "480 43\n",
      "493 181\n",
      "494 44\n",
      "505 42\n",
      "517 71\n",
      "527 55\n",
      "542 41\n",
      "544 50\n",
      "545 31\n",
      "546 34\n",
      "550 33\n",
      "564 39\n",
      "571 36\n",
      "573 68\n",
      "575 33\n",
      "599 51\n",
      "610 53\n",
      "619 55\n",
      "625 78\n",
      "635 76\n",
      "644 137\n",
      "645 31\n",
      "675 41\n",
      "676 63\n",
      "683 36\n",
      "691 74\n",
      "699 53\n",
      "710 32\n",
      "728 55\n",
      "748 66\n",
      "764 38\n",
      "781 44\n",
      "783 61\n",
      "787 33\n",
      "794 42\n",
      "797 39\n",
      "810 48\n",
      "813 62\n",
      "823 54\n",
      "828 137\n",
      "833 53\n",
      "834 36\n",
      "839 74\n",
      "843 41\n",
      "865 62\n",
      "867 76\n",
      "868 61\n",
      "871 59\n",
      "877 41\n",
      "878 34\n",
      "887 68\n",
      "893 98\n",
      "904 46\n",
      "909 55\n",
      "911 50\n",
      "914 92\n",
      "929 58\n",
      "938 42\n",
      "987 42\n",
      "990 38\n"
     ]
    }
   ],
   "source": [
    "for i in range(len(biographies_paragraphs_tokens)):\n",
    "    if len(biographies_paragraphs_tokens[i]) > 30:\n",
    "        print(i, len(biographies_paragraphs_tokens[i]))"
   ]
  },
  {
   "cell_type": "code",
   "execution_count": 6,
   "metadata": {
    "collapsed": false
   },
   "outputs": [
    {
     "name": "stdout",
     "output_type": "stream",
     "text": [
      "14035 / 14035 Percent: [##################################################] 100%"
     ]
    }
   ],
   "source": [
    "all_tokens_list = list(all_tokens)\n",
    "number_of_paragraphs = len(paragraph_tokens)\n",
    "number_of_tokens = len(all_tokens_list)\n",
    "paragraphs_bow = np.zeros([number_of_paragraphs, number_of_tokens], dtype = np.int)\n",
    "\n",
    "tokens_indices_dict = dict()\n",
    "for i in range(number_of_tokens):\n",
    "    tokens_indices_dict[all_tokens_list[i]] = i\n",
    "\n",
    "for i in range(number_of_paragraphs):\n",
    "    for j in range(len(paragraph_tokens[i])):\n",
    "        paragraphs_bow[i][tokens_indices_dict[paragraph_tokens[i][j]]] += 1\n",
    "        \n",
    "    progress(i + 1, number_of_paragraphs)"
   ]
  },
  {
   "cell_type": "code",
   "execution_count": 7,
   "metadata": {
    "collapsed": false
   },
   "outputs": [
    {
     "data": {
      "text/plain": [
       "58979"
      ]
     },
     "execution_count": 7,
     "metadata": {},
     "output_type": "execute_result"
    }
   ],
   "source": [
    "len(all_tokens_list)"
   ]
  },
  {
   "cell_type": "code",
   "execution_count": 8,
   "metadata": {
    "collapsed": false
   },
   "outputs": [
    {
     "data": {
      "text/plain": [
       "(14035, 58979)"
      ]
     },
     "execution_count": 8,
     "metadata": {},
     "output_type": "execute_result"
    }
   ],
   "source": [
    "vocab = all_tokens_list\n",
    "paragraphs_bow.shape"
   ]
  },
  {
   "cell_type": "code",
   "execution_count": null,
   "metadata": {
    "collapsed": false
   },
   "outputs": [],
   "source": []
  },
  {
   "cell_type": "code",
   "execution_count": 9,
   "metadata": {
    "collapsed": false
   },
   "outputs": [
    {
     "name": "stderr",
     "output_type": "stream",
     "text": [
      "WARNING:lda:all zero row in document-term matrix found\n"
     ]
    },
    {
     "data": {
      "text/plain": [
       "<lda.lda.LDA at 0x10c099cc0>"
      ]
     },
     "execution_count": 9,
     "metadata": {},
     "output_type": "execute_result"
    }
   ],
   "source": [
    "number_of_topics = 30\n",
    "\n",
    "model = lda.LDA(n_topics=number_of_topics, n_iter=1500, random_state=1)\n",
    "model.fit(paragraphs_bow)  # model.fit_transform(X) is also available"
   ]
  },
  {
   "cell_type": "code",
   "execution_count": 11,
   "metadata": {
    "collapsed": false
   },
   "outputs": [
    {
     "name": "stdout",
     "output_type": "stream",
     "text": [
      "Topic 0: , . the and '' of `` in a on music 's with by The\n",
      "Topic 1: the to , . was that a his and had he of by for in\n",
      "Topic 2: , ) ( . was and a is He born an known ; of American\n",
      "Topic 3: ) ( '' * : = , director ISBN & - C der und {\n",
      "Topic 4: the of , . in and to was Pope his He on Rome as he\n",
      "Topic 5: , '' the . in and for of a film as 's ''The on with\n",
      "Topic 6: the of , . in and a to on theory for ) 's his He\n",
      "Topic 7: , the of . and in a his with art 's work by works painting\n",
      "Topic 8: , . '' : * ; of and [ ] The Press ISBN London ``\n",
      "Topic 9: the of and , . to a in 's The with for as were which\n",
      "Topic 10: the , of . and in to his was a as by Roman He against\n",
      "Topic 11: the of , in . and at University a was he He In to from\n",
      "Topic 12: , the . in and a for on of to is In has an 's\n",
      "Topic 13: , '' of . the and in 's `` his a published by ''The for\n",
      "Topic 14: '' ) ( * The `` ''The ; : 's ** A with ! ISBN\n",
      "Topic 15: '' , ) ( * by di R Italian Naples La ''La Teatro e dir\n",
      "Topic 16: , the . `` '' that to is a of I and not it in\n",
      "Topic 17: , the of . and in to Tipu a by were 's The '' his\n",
      "Topic 18: : , '' de by File ( French ) of Paris - France directed la\n",
      "Topic 19: , the . in and of New a to York was United on for at\n",
      "Topic 20: of , the . and was his in Henry 's King to as Edward England\n",
      "Topic 21: the , . in and a was of to for 's at won first with\n",
      "Topic 22: of , and the . as his a in '' to `` that is 's\n",
      "Topic 23: ( ) '' * , Award : ''The ; 1997 1996 Film 1991 1984 1998\n",
      "Topic 24: . ( ) , of ; on from : was December March August On April\n",
      "Topic 25: the of , . and in was as to a for War he from He\n",
      "Topic 26: the in , of . at is 's was a The by on his John\n",
      "Topic 27: the of , . '' and in a as is to ( ) was ;\n",
      "Topic 28: , his . in he to and a was the of He at with for\n",
      "Topic 29: , her . and she She a in 's had of married was to ||\n"
     ]
    }
   ],
   "source": [
    "topic_word = model.topic_word_  # model.components_ also works\n",
    "n_top_words = 20\n",
    "\n",
    "topics_words = list()\n",
    "\n",
    "word_freqs = dict()\n",
    "\n",
    "for i, topic_dist in enumerate(topic_word):\n",
    "    # topic_words: words sorted by relevance to topic in descending order\n",
    "    topic_words = list(np.array(vocab)[np.argsort(topic_dist)[::-1]])#[:10]#[:-(n_top_words+1):-1]\n",
    "    #print(topic_words)\n",
    "    topics_words.append(topic_words)\n",
    "    print('Topic {}: {}'.format(i, ' '.join(topic_words[:15])))\n",
    "    for word in topic_words[:20]:\n",
    "        if word not in word_freqs:\n",
    "            word_freqs[word] = 1\n",
    "        else:\n",
    "            word_freqs[word] += 1\n",
    "            \n",
    "topic_words_indices_dicts = list()\n",
    "for topic_words in topics_words:\n",
    "    topic_words_indices_dict = dict()\n",
    "    for i in range(len(topic_words)):\n",
    "        topic_words_indices_dict[topic_words[i]] = i\n",
    "    topic_words_indices_dicts.append(topic_words_indices_dict)"
   ]
  },
  {
   "cell_type": "code",
   "execution_count": null,
   "metadata": {
    "collapsed": false
   },
   "outputs": [],
   "source": []
  },
  {
   "cell_type": "code",
   "execution_count": 12,
   "metadata": {
    "collapsed": false
   },
   "outputs": [],
   "source": [
    "def calculate_word_topic_id(word, topics_words):\n",
    "    if word in word_freqs and word_freqs[word] > 4:\n",
    "        return -1\n",
    "    \n",
    "    topic_id = -1\n",
    "    min_topic_index = number_of_tokens + 1\n",
    "    for current_topic_id in range(number_of_topics):\n",
    "        index = topic_words_indices_dicts[current_topic_id][word]\n",
    "        if index < min_topic_index:\n",
    "            topic_id = current_topic_id\n",
    "            min_topic_index = index\n",
    "            \n",
    "    return topic_id"
   ]
  },
  {
   "cell_type": "code",
   "execution_count": 13,
   "metadata": {
    "collapsed": false
   },
   "outputs": [],
   "source": [
    "vocabulary_words_indices_dict = dict()\n",
    "for i in range(len(vocab)):\n",
    "    vocabulary_words_indices_dict[vocab[i]] = i"
   ]
  },
  {
   "cell_type": "code",
   "execution_count": 14,
   "metadata": {
    "collapsed": true
   },
   "outputs": [],
   "source": [
    "def calculate_vocabulary_topic_ids(vocabulary, topics_words):\n",
    "    topic_ids = list()\n",
    "    i = 0\n",
    "    for word in vocab:\n",
    "        topic_ids.append(calculate_word_topic_id(word, topics_words))\n",
    "        i += 1\n",
    "        progress(i, len(vocab))\n",
    "        \n",
    "    return topic_ids"
   ]
  },
  {
   "cell_type": "code",
   "execution_count": 15,
   "metadata": {
    "collapsed": false
   },
   "outputs": [
    {
     "name": "stdout",
     "output_type": "stream",
     "text": [
      "57081 / 58979 Percent: [################################################  ] 97%"
     ]
    }
   ],
   "source": [
    "vocabulary_topic_ids = calculate_vocabulary_topic_ids(vocab, topics_words)"
   ]
  },
  {
   "cell_type": "code",
   "execution_count": null,
   "metadata": {
    "collapsed": false
   },
   "outputs": [],
   "source": []
  },
  {
   "cell_type": "code",
   "execution_count": 16,
   "metadata": {
    "collapsed": true
   },
   "outputs": [],
   "source": [
    "def get_vocabulary_word_topic_id(vocabulary, vocabulary_topic_ids, word):\n",
    "    try:\n",
    "        return vocabulary_topic_ids[vocabulary_words_indices_dict[word]]\n",
    "    except ValueError:\n",
    "        # If word is not in the vocabulary (e.g. 'h.50')\n",
    "        return -1"
   ]
  },
  {
   "cell_type": "code",
   "execution_count": 17,
   "metadata": {
    "collapsed": false
   },
   "outputs": [
    {
     "data": {
      "text/plain": [
       "20"
      ]
     },
     "execution_count": 17,
     "metadata": {},
     "output_type": "execute_result"
    }
   ],
   "source": [
    "get_vocabulary_word_topic_id(vocab, vocabulary_topic_ids, \"George\")"
   ]
  },
  {
   "cell_type": "code",
   "execution_count": 18,
   "metadata": {
    "collapsed": false
   },
   "outputs": [],
   "source": [
    "def get_paragraph_topic_ids(paragraph, topics_words):\n",
    "    topic_ids = list()\n",
    "    for word in paragraph:\n",
    "        topic_ids.append(get_vocabulary_word_topic_id(vocab, vocabulary_topic_ids, word))\n",
    "        \n",
    "    return topic_ids"
   ]
  },
  {
   "cell_type": "code",
   "execution_count": null,
   "metadata": {
    "collapsed": false
   },
   "outputs": [],
   "source": []
  },
  {
   "cell_type": "code",
   "execution_count": 19,
   "metadata": {
    "collapsed": true
   },
   "outputs": [],
   "source": [
    "def get_paragraphs_topic_ids(paragraphs, topic_words):\n",
    "    topic_ids = list()\n",
    "    for paragraph in paragraphs:\n",
    "        topic_ids.append(get_paragraph_topic_ids(paragraph, topics_words))\n",
    "        \n",
    "    return topic_ids"
   ]
  },
  {
   "cell_type": "code",
   "execution_count": null,
   "metadata": {
    "collapsed": false
   },
   "outputs": [],
   "source": []
  },
  {
   "cell_type": "code",
   "execution_count": 20,
   "metadata": {
    "collapsed": false
   },
   "outputs": [
    {
     "name": "stdout",
     "output_type": "stream",
     "text": [
      "1000 / 1000 Percent: [##################################################] 100%"
     ]
    }
   ],
   "source": [
    "def get_biographies_paragraphs_topic_ids(biographies_paragraphs_tokens, topic_words):\n",
    "    biographies_paragraphs_topic_ids = list()\n",
    "    i = 0\n",
    "    for biography in biographies_paragraphs_tokens:\n",
    "        biography_paragraphs_topic_ids = get_paragraphs_topic_ids(biography, topic_words)\n",
    "        biographies_paragraphs_topic_ids.append(biography_paragraphs_topic_ids)\n",
    "        i += 1\n",
    "        progress(i, len(biographies_paragraphs_tokens))\n",
    "    \n",
    "    return biographies_paragraphs_topic_ids\n",
    "\n",
    "biographies_paragraphs_topic_ids = get_biographies_paragraphs_topic_ids(biographies_paragraphs_tokens, topic_words)"
   ]
  },
  {
   "cell_type": "code",
   "execution_count": 21,
   "metadata": {
    "collapsed": false
   },
   "outputs": [
    {
     "data": {
      "text/plain": [
       "[11,\n",
       " 11,\n",
       " -1,\n",
       " 2,\n",
       " 14,\n",
       " -1,\n",
       " -1,\n",
       " -1,\n",
       " 11,\n",
       " -1,\n",
       " 27,\n",
       " -1,\n",
       " 11,\n",
       " -1,\n",
       " -1,\n",
       " 11,\n",
       " 11,\n",
       " -1,\n",
       " 11,\n",
       " -1,\n",
       " 29,\n",
       " -1,\n",
       " -1,\n",
       " -1,\n",
       " 1,\n",
       " -1,\n",
       " -1,\n",
       " 11,\n",
       " -1,\n",
       " 11,\n",
       " -1,\n",
       " 27,\n",
       " -1,\n",
       " 6,\n",
       " -1,\n",
       " 12,\n",
       " -1]"
      ]
     },
     "execution_count": 21,
     "metadata": {},
     "output_type": "execute_result"
    }
   ],
   "source": [
    "biographies_paragraphs_topic_ids[0][0]"
   ]
  },
  {
   "cell_type": "code",
   "execution_count": 22,
   "metadata": {
    "collapsed": false
   },
   "outputs": [
    {
     "data": {
      "text/plain": [
       "['Aimoin',\n",
       " '(',\n",
       " 'circa',\n",
       " '960',\n",
       " 'c.',\n",
       " '1010',\n",
       " ')',\n",
       " ',',\n",
       " 'French',\n",
       " 'chronicler',\n",
       " ',',\n",
       " 'was',\n",
       " 'born',\n",
       " 'at',\n",
       " 'Villefranche-de-Longchat',\n",
       " 'about',\n",
       " '960',\n",
       " ',',\n",
       " 'and',\n",
       " 'in',\n",
       " 'early',\n",
       " 'life',\n",
       " 'entered',\n",
       " 'the',\n",
       " 'monastery',\n",
       " 'of',\n",
       " 'Fleury',\n",
       " ',',\n",
       " 'where',\n",
       " 'he',\n",
       " 'became',\n",
       " 'a',\n",
       " 'monk',\n",
       " 'and',\n",
       " 'passed',\n",
       " 'the',\n",
       " 'greater',\n",
       " 'part',\n",
       " 'of',\n",
       " 'his',\n",
       " 'life',\n",
       " '.']"
      ]
     },
     "execution_count": 22,
     "metadata": {},
     "output_type": "execute_result"
    }
   ],
   "source": [
    "biographies_paragraphs_tokens[2][0]"
   ]
  },
  {
   "cell_type": "code",
   "execution_count": 23,
   "metadata": {
    "collapsed": false
   },
   "outputs": [],
   "source": [
    "def calculate_paragraph_topics_frequency(paragraph_topic_ids, number_of_topics):\n",
    "    topics_frequencies = np.zeros(number_of_topics)\n",
    "    for topic_id in paragraph_topic_ids:\n",
    "        if (topic_id >= 0):\n",
    "            topics_frequencies[topic_id] += 1\n",
    "    \n",
    "    return topics_frequencies"
   ]
  },
  {
   "cell_type": "code",
   "execution_count": 24,
   "metadata": {
    "collapsed": false
   },
   "outputs": [],
   "source": [
    "def calculate_paragraphs_topics_frequency(paragraphs_topic_ids, number_of_topics):\n",
    "    paragraphs_topics_frequencies = list()\n",
    "    for paragraph in paragraphs_topic_ids:\n",
    "        paragraphs_topics_frequencies.append(calculate_paragraph_topics_frequency(paragraph, number_of_topics))\n",
    "        \n",
    "    return paragraphs_topics_frequencies"
   ]
  },
  {
   "cell_type": "code",
   "execution_count": 25,
   "metadata": {
    "collapsed": true
   },
   "outputs": [],
   "source": [
    "# def calculate_biography_paragraphs_topics_frequencies(biography_paragraphs_topic_ids, number_of_topics):\n",
    "#     biography_paragraphs_topics_frequencies = list()\n",
    "#     for paragraphs in biography_paragraphs_topic_ids:\n",
    "#         biography_paragraphs_topics_frequencies.append(calculate_paragraphs_topics_frequency(paragraphs, number_of_topics))\n",
    "        \n",
    "#     return biography_paragraphs_topics_frequencies"
   ]
  },
  {
   "cell_type": "code",
   "execution_count": 26,
   "metadata": {
    "collapsed": true
   },
   "outputs": [],
   "source": [
    "def calculate_biographies_paragraphs_topics_frequencies(biographies_paragraphs_topic_ids, number_of_topics):\n",
    "    biographies_paragraphs_topics_frequencies = list()\n",
    "    i = 0\n",
    "    for biography_paragraphs_topic_ids in biographies_paragraphs_topic_ids:\n",
    "        biographies_paragraphs_topics_frequencies.append(calculate_paragraphs_topics_frequency(biography_paragraphs_topic_ids, number_of_topics))\n",
    "        i += 1\n",
    "        progress(i, len(biographies_paragraphs_topic_ids))\n",
    "        \n",
    "    return biographies_paragraphs_topics_frequencies"
   ]
  },
  {
   "cell_type": "code",
   "execution_count": 27,
   "metadata": {
    "collapsed": false
   },
   "outputs": [
    {
     "name": "stdout",
     "output_type": "stream",
     "text": [
      "1000 / 1000 Percent: [##################################################] 100%"
     ]
    }
   ],
   "source": [
    "biographies_paragraphs_topics_frequencies = calculate_biographies_paragraphs_topics_frequencies(biographies_paragraphs_topic_ids, number_of_topics)"
   ]
  },
  {
   "cell_type": "code",
   "execution_count": 28,
   "metadata": {
    "collapsed": false
   },
   "outputs": [
    {
     "data": {
      "text/plain": [
       "array([ 0.,  0.,  1.,  0.,  2.,  0.,  0.,  0.,  0.,  2.,  1.,  0.,  1.,\n",
       "        0.,  0.,  0.,  0.,  0.,  2.,  0.,  0.,  0.,  1.,  0.,  1.,  0.,\n",
       "        0.,  7.,  5.,  0.])"
      ]
     },
     "execution_count": 28,
     "metadata": {},
     "output_type": "execute_result"
    }
   ],
   "source": [
    "biographies_paragraphs_topics_frequencies[2][0]"
   ]
  },
  {
   "cell_type": "code",
   "execution_count": 29,
   "metadata": {
    "collapsed": true
   },
   "outputs": [],
   "source": [
    "def calculate_coherence_score(paragraphs_topics_frequencies, number_of_topics, position, window_size):\n",
    "    pre_topics_frequencies = np.zeros(number_of_topics)\n",
    "    for i in range(window_size):\n",
    "        pre_topics_frequencies += paragraphs_topics_frequencies[position - i]\n",
    "        \n",
    "    post_topics_frequencies = np.zeros(number_of_topics)\n",
    "    for i in range(window_size):\n",
    "        post_topics_frequencies += paragraphs_topics_frequencies[position + 1 + i]\n",
    "        \n",
    "    dot_product = np.dot(pre_topics_frequencies, post_topics_frequencies)\n",
    "    pre_norm = np.linalg.norm(pre_topics_frequencies)\n",
    "    post_norm = np.linalg.norm(post_topics_frequencies)\n",
    "    \n",
    "    cosine_similarity = dot_product / (pre_norm * post_norm)\n",
    "    \n",
    "    return cosine_similarity"
   ]
  },
  {
   "cell_type": "code",
   "execution_count": 30,
   "metadata": {
    "collapsed": false
   },
   "outputs": [
    {
     "data": {
      "text/plain": [
       "0.87692689757987219"
      ]
     },
     "execution_count": 30,
     "metadata": {},
     "output_type": "execute_result"
    }
   ],
   "source": [
    "calculate_coherence_score(biographies_paragraphs_topics_frequencies[1], number_of_topics, 10, 3)"
   ]
  },
  {
   "cell_type": "code",
   "execution_count": 31,
   "metadata": {
    "collapsed": false
   },
   "outputs": [],
   "source": [
    "window_size = 3\n",
    "\n",
    "def calculate_coherence_scores(paragraphs_topics_frequencies, number_of_topics, window_size):\n",
    "    coherence_scores = list()\n",
    "    for i in range(len(paragraphs_topics_frequencies) - 2 * window_size):\n",
    "        score = calculate_coherence_score(paragraphs_topics_frequencies, number_of_topics, window_size + i - 1, window_size)\n",
    "        coherence_scores.append(score)\n",
    "        \n",
    "    return coherence_scores"
   ]
  },
  {
   "cell_type": "code",
   "execution_count": 32,
   "metadata": {
    "collapsed": false
   },
   "outputs": [],
   "source": [
    "def calculate_depth_scores(coherence_scores):\n",
    "    depth_scores = list()\n",
    "    for i in range(len(coherence_scores)):\n",
    "        hl = coherence_scores[i]\n",
    "        hr = coherence_scores[i]\n",
    "        for j in range(i):\n",
    "            if coherence_scores[i - j - 1] > hl:\n",
    "                hl = coherence_scores[i - j - 1]\n",
    "            else:\n",
    "                break\n",
    "        \n",
    "        for j in range(i + 1, len(coherence_scores)):\n",
    "            if coherence_scores[j] > hr:\n",
    "                hr = coherence_scores[j]\n",
    "            else:\n",
    "                break\n",
    "                \n",
    "        depth_score = 0.5 * (hl + hr - 2 * coherence_scores[i])\n",
    "        depth_scores.append(depth_score)\n",
    "        \n",
    "    return depth_scores"
   ]
  },
  {
   "cell_type": "code",
   "execution_count": 71,
   "metadata": {
    "collapsed": false
   },
   "outputs": [],
   "source": [
    "bio_index = 47\n",
    "coherence_scores = calculate_coherence_scores(biographies_paragraphs_topics_frequencies[bio_index], number_of_topics, window_size)"
   ]
  },
  {
   "cell_type": "code",
   "execution_count": 72,
   "metadata": {
    "collapsed": false
   },
   "outputs": [
    {
     "data": {
      "text/plain": [
       "26"
      ]
     },
     "execution_count": 72,
     "metadata": {},
     "output_type": "execute_result"
    }
   ],
   "source": [
    "depth_scores = calculate_depth_scores(coherence_scores)\n",
    "len(coherence_scores)"
   ]
  },
  {
   "cell_type": "code",
   "execution_count": 73,
   "metadata": {
    "collapsed": false
   },
   "outputs": [
    {
     "data": {
      "text/plain": [
       "30"
      ]
     },
     "execution_count": 73,
     "metadata": {},
     "output_type": "execute_result"
    }
   ],
   "source": [
    "len(biographies_paragraphs_topics_frequencies[bio_index][1])"
   ]
  },
  {
   "cell_type": "code",
   "execution_count": 74,
   "metadata": {
    "collapsed": false
   },
   "outputs": [],
   "source": [
    "mean = np.mean(depth_scores)"
   ]
  },
  {
   "cell_type": "code",
   "execution_count": 75,
   "metadata": {
    "collapsed": false
   },
   "outputs": [],
   "source": [
    "std = np.std(depth_scores)"
   ]
  },
  {
   "cell_type": "code",
   "execution_count": 76,
   "metadata": {
    "collapsed": false
   },
   "outputs": [
    {
     "data": {
      "text/plain": [
       "0.0071024121374120841"
      ]
     },
     "execution_count": 76,
     "metadata": {},
     "output_type": "execute_result"
    }
   ],
   "source": [
    "mean - std / 2"
   ]
  },
  {
   "cell_type": "code",
   "execution_count": null,
   "metadata": {
    "collapsed": false
   },
   "outputs": [],
   "source": []
  },
  {
   "cell_type": "code",
   "execution_count": 81,
   "metadata": {
    "collapsed": false
   },
   "outputs": [
    {
     "name": "stdout",
     "output_type": "stream",
     "text": [
      "0.0199062171616 \t Bergson considers the appearance of novelty as a r\n",
      "0.0114871185325 \t Criticizing Kant's theory of knowledge exposed in \n",
      "0.0 \t ''The Creative Evolution'' in particular attempted\n",
      "0.0300743073988 \t Henri Bergsons ''Lebensphilosophie'' (Philosophy o\n",
      "0.000710596862901 \t Bergson regarded planning beforehand for the futur\n",
      "0.0 \t Duration (philosophy)\n",
      "0.00300854435808 \t The foundation of Henri Bergsons philosophy, his t\n",
      "0.041334680721 \t Kant believed that free will could only exist outs\n",
      "0.0 \t Intuition (Bergson)\n",
      "0.00230813642387 \t Duration, as defined by Bergson, then is a unity a\n",
      "0.0445528875643 \t In ''Laughter: An Essay on the Meaning of the Comi\n",
      "0.180818169777 \t From his first publications, Bergson's philosophy \n",
      "0.0617834627539 \t Alfred North Whitehead acknowledged Bergson's infl\n",
      "0.0 \t Many writers of the early 20th century criticized \n",
      "0.0214383679182 \t The Vatican accused Bergson of pantheism, while fr\n",
      "0.250692964314 \t Charles Sanders Peirce took strong exception to th\n",
      "0.0475695729977 \t As early as the 1890s, Santayana attacked certain \n",
      "0.0 \t the possibility of a new and unaccountable fact ap\n",
      "0.0669145288053 \t According to Santayana and Russell, Bergson projec\n",
      "0.0 \t Furthermore, writers such as Russell, Wittgenstein\n",
      "0.0357979240152 \t Suzanne Guerlac has argued that the more recent re\n",
      "0.702211140678 \t * Bergson, H.; ''Time and Free Will: An Essay on t\n",
      "0.304417199667 \t * Bergson, H.; ''Matter and Memory'' (''Matiere et\n",
      "0.179007525192 \t * Bergson, H.; ''Laughter: An Essay on the Meaning\n",
      "0.0 \t * Bergson, H.; ''Creative Evolution'' (''L'Evoluti\n",
      "0.106878634676 \t * Bergson, H.; ''Mind-energy'' (''L'Energie spirit\n"
     ]
    }
   ],
   "source": [
    "for i in range(len(depth_scores)):\n",
    "    print(depth_scores[i] , \"\\t\" , biographies_paragraphs[bio_index][i + window_size][:50])"
   ]
  },
  {
   "cell_type": "code",
   "execution_count": 78,
   "metadata": {
    "collapsed": false
   },
   "outputs": [
    {
     "data": {
      "text/plain": [
       "26"
      ]
     },
     "execution_count": 78,
     "metadata": {},
     "output_type": "execute_result"
    }
   ],
   "source": [
    "len(depth_scores)"
   ]
  },
  {
   "cell_type": "code",
   "execution_count": 79,
   "metadata": {
    "collapsed": false
   },
   "outputs": [
    {
     "data": {
      "text/plain": [
       "[0.019906217161572148,\n",
       " 0.011487118532526375,\n",
       " 0.0,\n",
       " 0.030074307398782918,\n",
       " 0.0007105968629010917,\n",
       " 0.0,\n",
       " 0.003008544358082399,\n",
       " 0.041334680720991557,\n",
       " 0.0,\n",
       " 0.0023081364238749513,\n",
       " 0.044552887564330179,\n",
       " 0.18081816977731835,\n",
       " 0.061783462753910667,\n",
       " 0.0,\n",
       " 0.021438367918238721,\n",
       " 0.2506929643140392,\n",
       " 0.047569572997745668,\n",
       " 0.0,\n",
       " 0.066914528805290252,\n",
       " 0.0,\n",
       " 0.035797924015227189,\n",
       " 0.70221114067784252,\n",
       " 0.30441719966682523,\n",
       " 0.17900752519158125,\n",
       " 0.0,\n",
       " 0.10687863467625447]"
      ]
     },
     "execution_count": 79,
     "metadata": {},
     "output_type": "execute_result"
    }
   ],
   "source": [
    "depth_scores"
   ]
  },
  {
   "cell_type": "code",
   "execution_count": 80,
   "metadata": {
    "collapsed": false
   },
   "outputs": [
    {
     "name": "stdout",
     "output_type": "stream",
     "text": [
      "0.94645787252 Bergson considers the appearance of novelty as a result of pure undetermined creation, instead of as\n",
      "0.963296069778 Criticizing Kant's theory of knowledge exposed in the ''Critique of Pure Reason'' and his conception\n",
      "0.986270306843 ''The Creative Evolution'' in particular attempted to think through the continuous creation of life,\n",
      "0.938635427681 Henri Bergsons ''Lebensphilosophie'' (Philosophy of Life) can be seen as a response to the mechanist\n",
      "0.949727969591 Bergson regarded planning beforehand for the future as impossible, since time itself unravels unfore\n",
      "0.951149163317 Duration (philosophy)\n",
      "0.945132074601 The foundation of Henri Bergsons philosophy, his theory of Duration, he discovered when trying to im\n",
      "0.921552879783 Kant believed that free will could only exist outside of time and space, that we could therefore not\n",
      "0.974625957692 Intuition (Bergson)\n",
      "0.970009684844 Duration, as defined by Bergson, then is a unity and a multiplicity, but, being mobile, it cannot be\n",
      "0.885520182563 In ''Laughter: An Essay on the Meaning of the Comic'', Bergson develops a theory not of laughter its\n",
      "0.762885996197 From his first publications, Bergson's philosophy attracted strong criticism from different quarters\n",
      "0.789215448748 Alfred North Whitehead acknowledged Bergson's influence on his process philosophy in his 1929 ''Proc\n",
      "0.912782374256 Many writers of the early 20th century criticized Bergson's intuitionism, indeterminism, psychologis\n",
      "0.86990563842 The Vatican accused Bergson of pantheism, while free-thinkersdate=September 2009 (who formed a large\n",
      "0.643907951682 Charles Sanders Peirce took strong exception to those who associated him with Bergson. In response t\n",
      "0.781280311741 As early as the 1890s, Santayana attacked certain key concepts in Bergsons philosophy, above all his\n",
      "0.876419457737 the possibility of a new and unaccountable fact appearing at any time, he writes in his book on Herm\n",
      "0.808267520365 According to Santayana and Russell, Bergson projected false claims onto the aspirations of scientifi\n",
      "0.873944640604 Furthermore, writers such as Russell, Wittgenstein, and James saw ''elan vital'' as a projection of \n",
      "0.802348792573 Suzanne Guerlac has argued that the more recent resurgence of scholarly interest in Bergson is relat\n",
      "0.193203797143 * Bergson, H.; ''Time and Free Will: An Essay on the Immediate Data of Consciousness'' (''Essai sur \n",
      "0.308050835705 * Bergson, H.; ''Matter and Memory'' (''Matiere et memoire'', 1896). Swan Sonnenschein 1911, Zone Bo\n",
      "0.558870184656 * Bergson, H.; ''Laughter: An Essay on the Meaning of the Comic'' (''Le rire'', 1900). Green Integer\n",
      "0.916885235039 * Bergson, H.; ''Creative Evolution'' (''L'Evolution creatrice'', 1907). Henry Holt and Company 1911\n",
      "0.703127965686 * Bergson, H.; ''Mind-energy'' (''L'Energie spirituelle, 1919''). McMillan 1920.  a collection of es\n"
     ]
    }
   ],
   "source": [
    "for i in range(len(coherence_scores)):\n",
    "    print(coherence_scores[i], biographies_paragraphs[bio_index][i + window_size][:100])"
   ]
  },
  {
   "cell_type": "code",
   "execution_count": 100,
   "metadata": {
    "collapsed": false
   },
   "outputs": [
    {
     "data": {
      "text/plain": [
       "[('Summary',\n",
       "  'Henri-Louis Bergson (; 18 October 1859 – 4 January 1941) was a major French philosopher, influential especially in the first half of the 20th century. Bergson convinced many thinkers that the processes of immediate experience and intuition are more significant than abstract rationalism and science for understanding reality.\\n\\nHe was awarded the 1927 Nobel Prize in Literature \"in recognition of his rich and vitalizing ideas and the brilliant skill with which they have been presented\". In 1930 France awarded him its highest honour, the Grand-Croix de la Legion d\\'honneur.\\n\\n'),\n",
       " ('Philosophy',\n",
       "  'Bergson rejected what he saw as the overly mechanistic predominant view of causality (as expressed in, say, finalism). He argued that we must allow space for free will to unfold in an autonomous and unpredictable fashion. While Kant saw free will as something beyond time and space and therefore ultimately a matter of faith, Bergson attempted to redefine the modern conceptions of time, space, and causality in his concept of Duration, making room for a tangible marriage of free will with causality. Seeing Duration as a mobile and fluid concept, Bergson argued that one cannot understand Duration through \"immobile\" analysis, but only through experiential, first-person intuition.\\n\\n'),\n",
       " ('Creativity',\n",
       "  '\\nBergson considers the appearance of novelty as a result of pure undetermined creation, instead of as the predetermined result of mechanistic forces. His philosophy emphasises pure mobility, unforeseeable novelty, creativity and freedom; thus one can characterize his system as a process philosophy. It touches upon such topics as time and identity, free will, perception, change, memory, consciousness, language, the foundation of mathematics and the limits of reason.\\n\\nCriticizing Kant\\'s theory of knowledge exposed in the \\'\\'Critique of Pure Reason\\'\\' and his conception of truth  which he compares to Plato\\'s conception of truth as its symmetrical inversion (order of nature/order of thought)  Bergson attempted to redefine the relations between science and metaphysics, intelligence and intuition, and insisted on the necessity of increasing thought\\'s possibility through the use of intuition, which, according to him, alone approached a knowledge of the absolute and of real life, understood as pure duration. Because of his (relative) criticism of intelligence, he makes a frequent use of images and metaphors in his writings in order to avoid the use of concepts, which (he considers) fail to touch the whole of reality, being only a sort of abstract net thrown on things. For instance, he says in \\'\\'The Creative Evolution\\'\\' (chap.III) that thought in itself would never have thought it possible for the human being to swim, as it cannot deduce swimming from walking. For swimming to be possible, man must throw itself in water, and only then can thought consider swimming as possible. Intelligence, for Bergson, is a practical faculty rather than a pure speculative faculty, a product of evolution used by man to survive. If metaphysics is to avoid \"false problems\", it should not extend to pure speculation the abstract concepts of intelligence, but rather use intuition.\\n\\n\\'\\'The Creative Evolution\\'\\' in particular attempted to think through the continuous creation of life, and explicitly pitted itself against Herbert Spencer\\'s evolutionary philosophy. Spencer had attempted to transpose Charles Darwin\\'s theory of evolution in philosophy and to construct a cosmology based on this theory (Spencer also coined the expression \"survival of the fittest\"). Bergson disputed what he saw as Spencer\\'s mechanistic philosophy.\\n\\nHenri Bergsons \\'\\'Lebensphilosophie\\'\\' (Philosophy of Life) can be seen as a response to the mechanistic philosophies of his time,  but also to the failure of finalism.  Indeed, he considers that finalism is unable to explain \"duration\" and the \"continuous creation of life\", as it only explains life as the progressive development of an initially determined program  a notion which remains, for example, in the expression of a \"genetic program\";  such a description of finalism was adopted, for instance, by Leibniz. It clearly announces Alfred North Whitehead\\'s.\\n\\nBergson regarded planning beforehand for the future as impossible, since time itself unravels unforeseen possibilities. Indeed, one could always explain a historical event retrospectively by its conditions of possibility. But, in the introduction to the \\'\\'Pensee et le mouvant\\'\\', he explains that such an event created retrospectively its causes, taking the example of the creation of a work of art, for example a symphony: it was impossible to predict what would be the symphony of the future, as if the musician knew what symphony would be the best for his time, he would realize it. In his words, the effect created its cause. Henceforth, he attempted to find a third way between mechanism and finalism, through the notion of an original impulse, the \\'\\'elan vital\\'\\', in life, which dispersed itself through evolution into contradictory tendencies (he substituted to the finalist notion of a teleological aim a notion of an original impulse).\\n\\n'),\n",
       " ('Duration',\n",
       "  \"\\nDuration (philosophy)\\nThe foundation of Henri Bergsons philosophy, his theory of Duration, he discovered when trying to improve the inadequacies of Herbert Spencers philosophy. Bergson introduced Duration as a theory of time and consciousness in his doctoral thesis ''Time and Free Will: An Essay on the Immediate Data of Consciousness'' as a response to another of his influences: Immanuel Kant.\\n\\nKant believed that free will could only exist outside of time and space, that we could therefore not know whether or not it exists, and that it is nothing but a pragmatic faith. Bergson responded that Kant, along with many other philosophers, had confused time with its spatial representation. In reality, Bergson argued, Duration is unextended yet heterogeneous, and so its parts cannot be juxtaposed as a succession of distinct parts, with one causing the other. Based on this he concluded that determinism is an impossibility and free will pure mobility, which is what Bergson identified as being the Duration.\\n\\n\"),\n",
       " ('Intuition',\n",
       "  \"\\nIntuition (Bergson)\\nDuration, as defined by Bergson, then is a unity and a multiplicity, but, being mobile, it cannot be grasped through immobile concepts. Bergson hence argues that one can grasp it only through his method of intuition. Two images from Henri Bergsons ''An Introduction to Metaphysics'' may help one to grasp Bergson's term intuition, the limits of concepts, and the ability of intuition to grasp the absolute. The first image is that of a city. Analysis, or the creation of concepts through the divisions of points of view, can only ever give us a model of the city through a construction of photographs taken from every possible point of view, yet it can never give us the dimensional value of walking in the city itself. One can only grasp this through intuition; likewise the experience of reading a line of Homer. One may translate the line and pile commentary upon commentary, but this commentary too shall never grasp the simple dimensional value of experiencing the poem in its originality itself. The method of intuition, then, is that of getting back to the things themselves.\\n\\n\"),\n",
       " ('Laughter',\n",
       "  \"\\nIn ''Laughter: An Essay on the Meaning of the Comic'', Bergson develops a theory not of laughter itself but of how laughter can be provoked (see his objection to Delage, published in the 23rd edition of the essay). He describes the process of laughter (refusing to give a conceptual definition which would not approach its reality), used in particular by comics and clowns, as the caricature of the mechanism nature of humans (habits, automatic acts, etc.), one of the two tendencies of life (degradation towards inert matter and mechanism, and continual creation of new forms). However, Bergson warns us that laughters criterion of what should be laughed at is not a moral criterion and that it can in fact cause serious damage to a persons self-esteem. This essay made his opposition to the Cartesian theory of the animal-machine obvious.\\n\\n\"),\n",
       " ('Reception',\n",
       "  'From his first publications, Bergson\\'s philosophy attracted strong criticism from different quarters, although he also became very popular and durably influenced French philosophy.  The mathematician Edouard Le Roy became Bergson\\'s main disciple. Nonetheless, Suzanne Guerlac has argued that his institutional position at the College de France, delivering lectures to a general audience, may have retarded the systematic reception of his thought: \"Bergson achieved enormous popular success in this context, often due to the emotional appeal of his ideas.  But he did not have the equivalent of graduate students who might have become rigorous interpreters of his thought.  Thus Bergson\\'s philosophy--in principle open and nonsystematic--was easily borrowed piecemeal and altered by enthusiastic admirers\".\\n\\nAlfred North Whitehead acknowledged Bergson\\'s influence on his process philosophy in his 1929 \\'\\'Process and Reality.\\'\\'  However, Bertrand Russell, Whitehead\\'s collaborator on \\'\\'Principia Mathematica\\'\\', was not so entranced by Bergson\\'s philosophy. Although acknowledging Bergson\\'s literary skills, Russell saw Bergson\\'s arguments at best as persuasive or emotive speculation but not at all as any worthwhile example of  sound reasoning or philosophical insight. The epistemologist Gaston Bachelard explicitly alluded to him in the last pages of his 1938 book \\'\\'The Formation of the Scientific Mind\\'\\'. Others influenced by Bergson include Vladimir Jankelevitch, who wrote a book on him in 1931, Pierre Teilhard de Chardin, and Gilles Deleuze who wrote \\'\\'Le bergsonisme\\'\\' in 1966. Bergson also influenced the phenomenology of Maurice Merleau-Ponty and Emmanuel Levinas, although Merleau-Ponty had reservations about Bergson\\'s philosophy. The Greek author Nikos Kazantzakis studied under Bergson in Paris and his writing and philosophy were profoundly influenced as a result.\\n\\nMany writers of the early 20th century criticized Bergson\\'s intuitionism, indeterminism, psychologism and interpretation of the scientific impulse. Those who explicitly criticized Bergson, either in published articles or in letters, included Bertrand Russell George Santayana, G. E. Moore, Ludwig Wittgenstein, Martin Heidegger, Julien Benda, T. S. Eliot, Wyndham Lewis, Paul Valery, Andre Gide, Jean Piaget, Marxist philosophers Theodor W. Adorno, Lucio Colletti, Jean-Paul Sartre, and Georges Politzer, as well as Maurice Blanchot, American philosophers such as Irving Babbitt, Arthur Lovejoy, Josiah Royce, The New Realists (Ralph B. Perry, E. B. Holt, and William Pepperell Montague), The Critical Realists (Durant Drake, Roy W. Sellars, C. A. Strong, and A. K. Rogers), Daniel-Henry Kahnweiler, Roger Fry (see his letters), Julian Huxley (in \\'\\'Evolution: The Modern Synthesis\\'\\') and Virginia Woolf (for the latter, see Ann Banfield, \\'\\'The Phantom Table\\'\\').date=May 2010\\n\\nThe Vatican accused Bergson of pantheism, while free-thinkersdate=September 2009 (who formed a large part of the teachers and professors of the French Third Republic) accused him of spiritualism. Still others have characterized his philosophy as a materialist emergentism  Samuel Alexander and C. Lloyd Morgan explicitly claimed Bergson as their forebear. According to Henri Hude (1990, II, p.\\xa0142), who supports himself on the whole of Bergson\\'s works as well as his now published courses, accusing him of pantheism is a \"counter-sense\". Hude alleges that a mystical experience, roughly outlined at the end of \\'\\'Les Deux sources de la morale et de la religion\\'\\', is the inner principle of his whole philosophy, although this has been contested by other commentators.\\n\\nCharles Sanders Peirce took strong exception to those who associated him with Bergson. In response to a letter comparing his work with that of Bergson he wrote, a man who seeks to further science can hardly commit a greater sin than to use the terms of his science without anxious care to use them with strict accuracy; it is not very gratifying to my feelings to be classed along with a Bergson who seems to be doing his utmost to muddle all distinctions. William Jamess students resisted the assimilation of his work to that of Bergson. See, for example, Horace Kallens book on the subject \\'\\'James and Bergson\\'\\'. As Jean Wahl described the ultimate disagreement between James and Bergson in his \\'\\'System of Metaphysics\\'\\': for James, the consideration of action is necessary for the definition of truth, according to Bergson, action...must be kept from our mind if we want to see the truthdate=September 2010. Gide even went so far as to say that future historians will overestimate Bergsons influence on art and philosophy just because he was the self-appointed spokesman for the spirit of the age.\\n\\nAs early as the 1890s, Santayana attacked certain key concepts in Bergsons philosophy, above all his view of the New and the indeterminate:\\n\\nthe possibility of a new and unaccountable fact appearing at any time, he writes in his book on Hermann Lotze, does not practically affect the method of investigation;...the only thing given up is the hope that these hypotheses may ever be adequate to the reality and cover the process of nature without leaving a remainder. This is no great renunciation; for that consummation of science...is by no one really expected.\\n\\n\\nAccording to Santayana and Russell, Bergson projected false claims onto the aspirations of scientific method, claims which Bergson needed to make in order to justify his prior moral commitment to freedom. Russell takes particular exception to Bergsons understanding of number in chapter two of \\'\\'Time and Free-will\\'\\'. According to Russell, Bergson uses an outmoded spatial metaphor (extended images) to describe the nature of mathematics as well as logic in general. Bergson only succeeds in making his theory of number possible by confusing a particular collection with the number of its terms, and this again with number in general, writes Russell (see \\'\\'The Philosophy of Bergson\\'\\'date=September 2010 and \\'\\'A History of Western Philosophy\\'\\'date=September 2010).\\n\\nFurthermore, writers such as Russell, Wittgenstein, and James saw \\'\\'elan vital\\'\\' as a projection of subjectivity onto the world. The external world, according to certaindate=November 2009 theories of probability, provides less and less indeterminism with further refinement of scientific method. In brief, one should not confuse the moral, psychological, subjective demand for the new, the underivable and the unexplained with the universe.date=January 2010 One\\'s subjective sense of duration differs the (non-human) world, a difference which, according to the ancient materialist Lucretius should not be characterized as either one of becoming or being, creation or destruction (\\'\\'De Rerum Natura\\'\\').\\n\\nSuzanne Guerlac has argued that the more recent resurgence of scholarly interest in Bergson is related to the growing influence of his follower Deleuze within continental philosophy: \"If there is a return to Bergson today, then, it is largely due to Gilles Deleuze whose own work has etched the contours of the New Bergson.  This is not only because Deleuze wrote about Bergson; it is also because Deleuze\\'s own thought is deeply engaged with that of his predecessor, even when Bergson is not explicitly mentioned.\" Leonard Lawlor and Valentine Moulard agree with Guerlac that \"the recent revitalization of Bergsonism [...] is almost entirely due to Deleuze.\"  They explain that Bergson\\'s concept of multiplicity \"is at the very heart of Deleuze\\'s thought, and duration is the model for all of Deleuze\\'s \\'becomings.\\'  The other aspect that attracted Deleuze, which is indeed connected to the first, is Bergson\\'s criticism of the concept of negation in Creative Evolution. [...] Thus Bergson became a resource in the criticism of the Hegelian Dialectic#dialectic, the negative.\"\\n\\n'),\n",
       " ('Bibliography',\n",
       "  '* Bergson, H.; \\'\\'Time and Free Will: An Essay on the Immediate Data of Consciousness\\'\\' (\\'\\'Essai sur les donnees immediates de la conscience\\'\\', 1889). Allen & Unwin 1910, Dover Publications 2001: ISBN 0-486-41767-0  Bergson\\'s doctoral dissertation.\\n* Bergson, H.; \\'\\'Matter and Memory\\'\\' (\\'\\'Matiere et memoire\\'\\', 1896). Swan Sonnenschein 1911, Zone Books 1990: ISBN 0-942299-05-1, Dover Publications 2004: ISBN 0-486-43415-X.\\n* Bergson, H.; \\'\\'Laughter: An Essay on the Meaning of the Comic\\'\\' (\\'\\'Le rire\\'\\', 1900). Green Integer 1998: ISBN 1-892295-02-4, Dover Publications 2005: ISBN 0-486-44380-9.\\n* Bergson, H.; \\'\\'Creative Evolution\\'\\' (\\'\\'L\\'Evolution creatrice\\'\\', 1907). Henry Holt and Company 1911, University Press of America 1983: ISBN 0-8191-3553-4, Dover Publications 1998: ISBN 0-486-40036-0, Kessinger Publishing 2003: ISBN 0-7661-4732-0, Cosimo 2005: ISBN 1-59605-309-7.\\n* Bergson, H.; \\'\\'Mind-energy\\'\\' (\\'\\'L\\'Energie spirituelle, 1919\\'\\'). McMillan 1920.  a collection of essays and lectures. On [ Archive.org].\\n* Bergson, H.; \\'\\'Duration and Simultaneity: Bergson and the Einsteinian Universe\\'\\' (\\'\\'Duree et simultaneite\\'\\', 1922). Clinamen Press Ltd 1999. ISBN 1-903083-01-X.\\n* Bergson, H.; \\'\\'The Two Sources of Morality and Religion\\'\\' (\\'\\'Les Deux Sources de la Morale et de la Religion\\'\\', 1932). University of Notre Dame Press 1977. ISBN 0-268-01835-9. On [ Archive.org].\\n* Bergson, H.; \\'\\'The Creative Mind: An Introduction to Metaphysics\\'\\' (\\'\\'La Pensee et le mouvant\\'\\', 1934). Citadel Press 1946: ISBN 0-8065-2326-3  essay collection, sequel to \\'\\'Mind-Energy\\'\\', including 1903\\'s \"An Introduction to Metaphysics.\"\\n\\n')]"
      ]
     },
     "execution_count": 100,
     "metadata": {},
     "output_type": "execute_result"
    }
   ],
   "source": [
    "bios[47][0][1]"
   ]
  },
  {
   "cell_type": "code",
   "execution_count": 58,
   "metadata": {
    "collapsed": false
   },
   "outputs": [
    {
     "data": {
      "text/plain": [
       "17"
      ]
     },
     "execution_count": 58,
     "metadata": {},
     "output_type": "execute_result"
    }
   ],
   "source": [
    "len(biographies_paragraphs[1])"
   ]
  },
  {
   "cell_type": "code",
   "execution_count": null,
   "metadata": {
    "collapsed": true
   },
   "outputs": [],
   "source": []
  }
 ],
 "metadata": {
  "kernelspec": {
   "display_name": "Python 3",
   "language": "python",
   "name": "python3"
  },
  "language_info": {
   "codemirror_mode": {
    "name": "ipython",
    "version": 3
   },
   "file_extension": ".py",
   "mimetype": "text/x-python",
   "name": "python",
   "nbconvert_exporter": "python",
   "pygments_lexer": "ipython3",
   "version": "3.5.1"
  }
 },
 "nbformat": 4,
 "nbformat_minor": 0
}
